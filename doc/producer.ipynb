{
 "cells": [
  {
   "cell_type": "code",
   "execution_count": 1,
   "metadata": {},
   "outputs": [],
   "source": [
    "\n",
    "\n",
    "from kafka import KafkaProducer\n",
    "\n",
    "topic_name = 'items'\n",
    "kafkaServer = '127.0.0.1:9092'\n",
    "\n",
    "producer = KafkaProducer(bootstrap_servers=kafkaServer)\n",
    "\n",
    "producer.send(topic_name, b'Hello, Kafka!')\n",
    "producer.flush()"
   ]
  }
 ],
 "metadata": {
  "kernelspec": {
   "display_name": "Python 3",
   "language": "python",
   "name": "python3"
  },
  "language_info": {
   "codemirror_mode": {
    "name": "ipython",
    "version": 3
   },
   "file_extension": ".py",
   "mimetype": "text/x-python",
   "name": "python",
   "nbconvert_exporter": "python",
   "pygments_lexer": "ipython3",
   "version": "3.9.13"
  }
 },
 "nbformat": 4,
 "nbformat_minor": 2
}
