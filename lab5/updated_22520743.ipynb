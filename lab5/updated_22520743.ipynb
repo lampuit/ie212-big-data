{
 "cells": [
  {
   "cell_type": "code",
   "execution_count": 49,
   "metadata": {},
   "outputs": [],
   "source": [
    "from pyspark.sql import SparkSession\n",
    "from pyspark.sql.functions import col, when\n",
    "from pyspark.ml.feature import StringIndexer, OneHotEncoder, VectorAssembler\n",
    "from pyspark.ml.classification import RandomForestClassifier\n",
    "from pyspark.ml.evaluation import MulticlassClassificationEvaluator\n",
    "from pyspark.ml import Pipeline\n"
   ]
  },
  {
   "cell_type": "code",
   "execution_count": 50,
   "metadata": {},
   "outputs": [],
   "source": [
    "spark = SparkSession.builder \\\n",
    "    .appName(\"DiabetesReadmissionPrediction\") \\\n",
    "    .getOrCreate()\n"
   ]
  },
  {
   "cell_type": "code",
   "execution_count": 51,
   "metadata": {},
   "outputs": [
    {
     "name": "stdout",
     "output_type": "stream",
     "text": [
      "+------------+-----------+---------------+------+-------+------+-----------------+------------------------+-------------------+----------------+----------+--------------------+------------------+--------------+---------------+-----------------+----------------+----------------+------+------+------+----------------+-------------+---------+---------+-----------+-----------+--------------+-----------+-------------+---------+---------+-----------+------------+-------------+--------+--------+------------+----------+-------+-----------+-------+-------------------+-------------------+------------------------+-----------------------+----------------------+------+-----------+----------+\n",
      "|encounter_id|patient_nbr|           race|gender|    age|weight|admission_type_id|discharge_disposition_id|admission_source_id|time_in_hospital|payer_code|   medical_specialty|num_lab_procedures|num_procedures|num_medications|number_outpatient|number_emergency|number_inpatient|diag_1|diag_2|diag_3|number_diagnoses|max_glu_serum|A1Cresult|metformin|repaglinide|nateglinide|chlorpropamide|glimepiride|acetohexamide|glipizide|glyburide|tolbutamide|pioglitazone|rosiglitazone|acarbose|miglitol|troglitazone|tolazamide|examide|citoglipton|insulin|glyburide-metformin|glipizide-metformin|glimepiride-pioglitazone|metformin-rosiglitazone|metformin-pioglitazone|change|diabetesMed|readmitted|\n",
      "+------------+-----------+---------------+------+-------+------+-----------------+------------------------+-------------------+----------------+----------+--------------------+------------------+--------------+---------------+-----------------+----------------+----------------+------+------+------+----------------+-------------+---------+---------+-----------+-----------+--------------+-----------+-------------+---------+---------+-----------+------------+-------------+--------+--------+------------+----------+-------+-----------+-------+-------------------+-------------------+------------------------+-----------------------+----------------------+------+-----------+----------+\n",
      "|     2278392|    8222157|      Caucasian|Female| [0-10)|     ?|                6|                      25|                  1|               1|         ?|Pediatrics-Endocr...|                41|             0|              1|                0|               0|               0|250.83|     ?|     ?|               1|         None|     None|       No|         No|         No|            No|         No|           No|       No|       No|         No|          No|           No|      No|      No|          No|        No|     No|         No|     No|                 No|                 No|                      No|                     No|                    No|    No|         No|        NO|\n",
      "|      149190|   55629189|      Caucasian|Female|[10-20)|     ?|                1|                       1|                  7|               3|         ?|                   ?|                59|             0|             18|                0|               0|               0|   276|250.01|   255|               9|         None|     None|       No|         No|         No|            No|         No|           No|       No|       No|         No|          No|           No|      No|      No|          No|        No|     No|         No|     Up|                 No|                 No|                      No|                     No|                    No|    Ch|        Yes|       >30|\n",
      "|       64410|   86047875|AfricanAmerican|Female|[20-30)|     ?|                1|                       1|                  7|               2|         ?|                   ?|                11|             5|             13|                2|               0|               1|   648|   250|   V27|               6|         None|     None|       No|         No|         No|            No|         No|           No|   Steady|       No|         No|          No|           No|      No|      No|          No|        No|     No|         No|     No|                 No|                 No|                      No|                     No|                    No|    No|        Yes|        NO|\n",
      "|      500364|   82442376|      Caucasian|  Male|[30-40)|     ?|                1|                       1|                  7|               2|         ?|                   ?|                44|             1|             16|                0|               0|               0|     8|250.43|   403|               7|         None|     None|       No|         No|         No|            No|         No|           No|       No|       No|         No|          No|           No|      No|      No|          No|        No|     No|         No|     Up|                 No|                 No|                      No|                     No|                    No|    Ch|        Yes|        NO|\n",
      "|       16680|   42519267|      Caucasian|  Male|[40-50)|     ?|                1|                       1|                  7|               1|         ?|                   ?|                51|             0|              8|                0|               0|               0|   197|   157|   250|               5|         None|     None|       No|         No|         No|            No|         No|           No|   Steady|       No|         No|          No|           No|      No|      No|          No|        No|     No|         No| Steady|                 No|                 No|                      No|                     No|                    No|    Ch|        Yes|        NO|\n",
      "+------------+-----------+---------------+------+-------+------+-----------------+------------------------+-------------------+----------------+----------+--------------------+------------------+--------------+---------------+-----------------+----------------+----------------+------+------+------+----------------+-------------+---------+---------+-----------+-----------+--------------+-----------+-------------+---------+---------+-----------+------------+-------------+--------+--------+------------+----------+-------+-----------+-------+-------------------+-------------------+------------------------+-----------------------+----------------------+------+-----------+----------+\n",
      "only showing top 5 rows\n",
      "\n"
     ]
    }
   ],
   "source": [
    "# Đọc file CSV từ đường dẫn\n",
    "file_path = 'diabetic_data.csv'\n",
    "\n",
    "# Đọc dữ liệu CSV\n",
    "df = spark.read.csv(file_path, header=True, inferSchema=True)\n",
    "\n",
    "# Hiển thị một số dòng đầu của dữ liệu\n",
    "df.show(5)\n"
   ]
  },
  {
   "cell_type": "code",
   "execution_count": 52,
   "metadata": {},
   "outputs": [],
   "source": [
    "# Loại bỏ các cột không cần thiết\n",
    "columns_to_drop = ['encounter_id', 'patient_nbr', 'payer_code', 'weight']\n",
    "df = df.drop(*columns_to_drop)\n",
    "\n",
    "# Thay thế các giá trị '?' bằng 'unknown'\n",
    "df = df.replace('?', 'unknown')\n",
    "\n",
    "# Mã hóa cột 'readmitted' (NO -> 0, >30 -> 1, <30 -> 2)\n",
    "df = df.withColumn('readmitted', when(col('readmitted') == 'NO', 0)\n",
    "                   .when(col('readmitted') == '>30', 1)\n",
    "                   .when(col('readmitted') == '<30', 2))\n",
    "\n",
    "# Xác định các cột cần mã hóa\n",
    "categorical_columns = ['race', 'gender', 'age', 'max_glu_serum', 'A1Cresult', \n",
    "                       'medical_specialty', 'change', 'diabetesMed']\n",
    "\n",
    "# Sử dụng StringIndexer và OneHotEncoder cho các cột phân loại\n",
    "indexers = [StringIndexer(inputCol=col, outputCol=col + \"_index\") for col in categorical_columns]\n",
    "encoders = [OneHotEncoder(inputCol=col + \"_index\", outputCol=col + \"_encoded\") for col in categorical_columns]\n",
    "\n",
    "# Tạo feature vector từ tất cả các cột\n",
    "feature_columns = [col + \"_encoded\" for col in categorical_columns] + [\n",
    "    'admission_type_id', 'discharge_disposition_id', 'admission_source_id', \n",
    "    'time_in_hospital', 'num_lab_procedures', 'num_procedures', \n",
    "    'num_medications', 'number_outpatient', 'number_emergency', \n",
    "    'number_inpatient', 'number_diagnoses'\n",
    "]\n",
    "\n",
    "# Tạo vector features từ các cột đầu vào\n",
    "assembler = VectorAssembler(inputCols=feature_columns, outputCol=\"features\")\n",
    "\n"
   ]
  },
  {
   "cell_type": "code",
   "execution_count": 53,
   "metadata": {},
   "outputs": [],
   "source": [
    "# Khởi tạo mô hình Random Forest\n",
    "rf_classifier = RandomForestClassifier(labelCol=\"readmitted\", featuresCol=\"features\", numTrees=100)\n",
    "\n",
    "# Tạo pipeline để nối các bước\n",
    "pipeline = Pipeline(stages=indexers + encoders + [assembler, rf_classifier])\n"
   ]
  },
  {
   "cell_type": "code",
   "execution_count": null,
   "metadata": {},
   "outputs": [],
   "source": [
    "# Tách dữ liệu thành 80% train và 20% test\n",
    "train_data, test_data = df.randomSplit([0.8, 0.2], seed=42)\n",
    "\n",
    "train_data = data.groupby('readmitted', group_keys=False).apply(lambda x: x.sample(frac=0.8, random_state=42))\n",
    "test_data = data.drop(train_data.index)\n"
   ]
  },
  {
   "cell_type": "code",
   "execution_count": 14,
   "metadata": {},
   "outputs": [],
   "source": [
    "# Huấn luyện pipeline trên tập train\n",
    "model = pipeline.fit(train_data)\n"
   ]
  },
  {
   "cell_type": "code",
   "execution_count": 15,
   "metadata": {},
   "outputs": [
    {
     "name": "stdout",
     "output_type": "stream",
     "text": [
      "+----------+----------+--------------------+\n",
      "|readmitted|prediction|         probability|\n",
      "+----------+----------+--------------------+\n",
      "|         1|       0.0|[0.63701092874192...|\n",
      "|         1|       0.0|[0.51687346709739...|\n",
      "|         0|       0.0|[0.62197536982776...|\n",
      "|         1|       0.0|[0.51424233877733...|\n",
      "|         1|       0.0|[0.60286208789552...|\n",
      "+----------+----------+--------------------+\n",
      "only showing top 5 rows\n",
      "\n"
     ]
    }
   ],
   "source": [
    "# Thực hiện dự đoán trên tập test\n",
    "predictions = model.transform(test_data)\n",
    "\n",
    "# Hiển thị 5 dự đoán đầu tiên\n",
    "predictions.select(\"readmitted\", \"prediction\", \"probability\").show(5)\n"
   ]
  }
 ],
 "metadata": {
  "kernelspec": {
   "display_name": "Python 3",
   "language": "python",
   "name": "python3"
  },
  "language_info": {
   "codemirror_mode": {
    "name": "ipython",
    "version": 3
   },
   "file_extension": ".py",
   "mimetype": "text/x-python",
   "name": "python",
   "nbconvert_exporter": "python",
   "pygments_lexer": "ipython3",
   "version": "3.9.13"
  }
 },
 "nbformat": 4,
 "nbformat_minor": 2
}
