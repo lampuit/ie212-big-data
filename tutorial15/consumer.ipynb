{
 "cells": [
  {
   "cell_type": "code",
   "execution_count": 8,
   "metadata": {},
   "outputs": [
    {
     "name": "stdout",
     "output_type": "stream",
     "text": [
      "Model loaded successfully!\n"
     ]
    },
    {
     "name": "stderr",
     "output_type": "stream",
     "text": [
      "25/01/14 01:15:41 WARN ResolveWriteToStream: Temporary checkpoint location created which is deleted normally when the query didn't fail: /tmp/temporary-598e6932-10d7-4263-855e-3d39393abcee. If it's required to delete it under any circumstances, please set spark.sql.streaming.forceDeleteTempCheckpointLocation to true. Important to know deleting temp checkpoint folder is best effort.\n",
      "25/01/14 01:15:41 WARN ResolveWriteToStream: spark.sql.adaptive.enabled is not supported in streaming DataFrames/Datasets and will be disabled.\n",
      "25/01/14 01:15:41 WARN AdminClientConfig: These configurations '[key.deserializer, value.deserializer, enable.auto.commit, max.poll.records, auto.offset.reset]' were supplied but are not used yet.\n"
     ]
    },
    {
     "name": "stdout",
     "output_type": "stream",
     "text": [
      "-------------------------------------------\n",
      "Batch: 0\n",
      "-------------------------------------------\n",
      "+---------------+-----------+---------------+--------+-------------------------+----------------------------+\n",
      "|Item_Identifier|Item_Weight|Item_Visibility|Item_MRP|Outlet_Establishment_Year|Item_Outlet_Sales_Prediction|\n",
      "+---------------+-----------+---------------+--------+-------------------------+----------------------------+\n",
      "|FDW58          |20.75      |0.007564836    |107.8622|1999.0                   |1689.1573689790748          |\n",
      "|FDW14          |8.3        |0.038427677    |87.3198 |2007.0                   |1358.827055733047           |\n",
      "|NCN55          |14.6       |0.099574908    |241.7538|1998.0                   |3892.4079412046194          |\n",
      "|FDQ58          |7.315      |0.015388393    |155.034 |2007.0                   |2471.6206128916456          |\n",
      "|FDH56          |9.8        |0.063817206    |117.1492|1997.0                   |1910.0236110322057          |\n",
      "|FDL48          |19.35      |0.082601537    |50.1034 |2009.0                   |660.6581096566006           |\n",
      "|FDN33          |6.305      |0.123365446    |95.7436 |2002.0                   |1529.3685576171865          |\n",
      "|FDA36          |5.985      |0.005698435    |186.8924|2007.0                   |3000.149949400322           |\n",
      "|FDT44          |16.6       |0.103569075    |118.3466|2007.0                   |1799.0667607844207          |\n",
      "|FDQ56          |6.59       |0.10581147     |85.3908 |2002.0                   |1363.0976191351             |\n",
      "|FDU11          |4.785      |0.092737611    |122.3098|1999.0                   |2001.7499483267766          |\n",
      "|DRL59          |16.75      |0.021206464    |52.0298 |1987.0                   |898.5394744905589           |\n",
      "|FDM24          |6.135      |0.0794507      |151.6366|1999.0                   |2473.7015975301456          |\n",
      "|FDI57          |19.85      |0.05413521     |198.7768|2002.0                   |3139.308879240847           |\n",
      "|DRC12          |17.85      |0.037980963    |192.2188|2009.0                   |2991.883133715015           |\n",
      "|FDA46          |13.6       |0.196897637    |193.7136|1998.0                   |3095.227201514821           |\n",
      "|FDA31          |7.1        |0.109920138    |175.008 |1987.0                   |2938.038997701471           |\n",
      "|NCJ31          |19.2       |0.182619235    |239.9196|2004.0                   |3768.030156019775           |\n",
      "|FDG52          |13.65      |0.065630844    |47.7402 |1997.0                   |757.0606855441292           |\n",
      "|FDS10          |19.2       |0.035178935    |180.7318|2004.0                   |2837.730448007316           |\n",
      "+---------------+-----------+---------------+--------+-------------------------+----------------------------+\n",
      "only showing top 20 rows\n",
      "\n"
     ]
    },
    {
     "name": "stderr",
     "output_type": "stream",
     "text": [
      "ERROR:root:KeyboardInterrupt while sending command.\n",
      "Traceback (most recent call last):\n",
      "  File \"/home/lamp/Projects/big-data/venv/lib/python3.12/site-packages/py4j/java_gateway.py\", line 1038, in send_command\n",
      "    response = connection.send_command(command)\n",
      "               ^^^^^^^^^^^^^^^^^^^^^^^^^^^^^^^^\n",
      "  File \"/home/lamp/Projects/big-data/venv/lib/python3.12/site-packages/py4j/clientserver.py\", line 511, in send_command\n",
      "    answer = smart_decode(self.stream.readline()[:-1])\n",
      "                          ^^^^^^^^^^^^^^^^^^^^^^\n",
      "  File \"/usr/lib/python3.12/socket.py\", line 720, in readinto\n",
      "    return self._sock.recv_into(b)\n",
      "           ^^^^^^^^^^^^^^^^^^^^^^^\n",
      "KeyboardInterrupt\n"
     ]
    },
    {
     "ename": "KeyboardInterrupt",
     "evalue": "",
     "output_type": "error",
     "traceback": [
      "\u001b[0;31m---------------------------------------------------------------------------\u001b[0m",
      "\u001b[0;31mKeyboardInterrupt\u001b[0m                         Traceback (most recent call last)",
      "Cell \u001b[0;32mIn[8], line 98\u001b[0m\n\u001b[1;32m     89\u001b[0m \u001b[38;5;66;03m# Output predictions to the console in a tabular format\u001b[39;00m\n\u001b[1;32m     90\u001b[0m query \u001b[38;5;241m=\u001b[39m predictions\u001b[38;5;241m.\u001b[39mwriteStream \\\n\u001b[1;32m     91\u001b[0m     \u001b[38;5;241m.\u001b[39moutputMode(\u001b[38;5;124m\"\u001b[39m\u001b[38;5;124mappend\u001b[39m\u001b[38;5;124m\"\u001b[39m) \\\n\u001b[1;32m     92\u001b[0m     \u001b[38;5;241m.\u001b[39mformat(\u001b[38;5;124m\"\u001b[39m\u001b[38;5;124mconsole\u001b[39m\u001b[38;5;124m\"\u001b[39m) \\\n\u001b[0;32m   (...)\u001b[0m\n\u001b[1;32m     95\u001b[0m     \u001b[38;5;241m.\u001b[39mtrigger(processingTime\u001b[38;5;241m=\u001b[39m\u001b[38;5;124m\"\u001b[39m\u001b[38;5;124m3 seconds\u001b[39m\u001b[38;5;124m\"\u001b[39m) \\\n\u001b[1;32m     96\u001b[0m     \u001b[38;5;241m.\u001b[39mstart()\n\u001b[0;32m---> 98\u001b[0m \u001b[43mquery\u001b[49m\u001b[38;5;241;43m.\u001b[39;49m\u001b[43mawaitTermination\u001b[49m\u001b[43m(\u001b[49m\u001b[43m)\u001b[49m\n",
      "File \u001b[0;32m~/Projects/big-data/venv/lib/python3.12/site-packages/pyspark/sql/streaming/query.py:221\u001b[0m, in \u001b[0;36mStreamingQuery.awaitTermination\u001b[0;34m(self, timeout)\u001b[0m\n\u001b[1;32m    219\u001b[0m     \u001b[38;5;28;01mreturn\u001b[39;00m \u001b[38;5;28mself\u001b[39m\u001b[38;5;241m.\u001b[39m_jsq\u001b[38;5;241m.\u001b[39mawaitTermination(\u001b[38;5;28mint\u001b[39m(timeout \u001b[38;5;241m*\u001b[39m \u001b[38;5;241m1000\u001b[39m))\n\u001b[1;32m    220\u001b[0m \u001b[38;5;28;01melse\u001b[39;00m:\n\u001b[0;32m--> 221\u001b[0m     \u001b[38;5;28;01mreturn\u001b[39;00m \u001b[38;5;28;43mself\u001b[39;49m\u001b[38;5;241;43m.\u001b[39;49m\u001b[43m_jsq\u001b[49m\u001b[38;5;241;43m.\u001b[39;49m\u001b[43mawaitTermination\u001b[49m\u001b[43m(\u001b[49m\u001b[43m)\u001b[49m\n",
      "File \u001b[0;32m~/Projects/big-data/venv/lib/python3.12/site-packages/py4j/java_gateway.py:1321\u001b[0m, in \u001b[0;36mJavaMember.__call__\u001b[0;34m(self, *args)\u001b[0m\n\u001b[1;32m   1314\u001b[0m args_command, temp_args \u001b[38;5;241m=\u001b[39m \u001b[38;5;28mself\u001b[39m\u001b[38;5;241m.\u001b[39m_build_args(\u001b[38;5;241m*\u001b[39margs)\n\u001b[1;32m   1316\u001b[0m command \u001b[38;5;241m=\u001b[39m proto\u001b[38;5;241m.\u001b[39mCALL_COMMAND_NAME \u001b[38;5;241m+\u001b[39m\\\n\u001b[1;32m   1317\u001b[0m     \u001b[38;5;28mself\u001b[39m\u001b[38;5;241m.\u001b[39mcommand_header \u001b[38;5;241m+\u001b[39m\\\n\u001b[1;32m   1318\u001b[0m     args_command \u001b[38;5;241m+\u001b[39m\\\n\u001b[1;32m   1319\u001b[0m     proto\u001b[38;5;241m.\u001b[39mEND_COMMAND_PART\n\u001b[0;32m-> 1321\u001b[0m answer \u001b[38;5;241m=\u001b[39m \u001b[38;5;28;43mself\u001b[39;49m\u001b[38;5;241;43m.\u001b[39;49m\u001b[43mgateway_client\u001b[49m\u001b[38;5;241;43m.\u001b[39;49m\u001b[43msend_command\u001b[49m\u001b[43m(\u001b[49m\u001b[43mcommand\u001b[49m\u001b[43m)\u001b[49m\n\u001b[1;32m   1322\u001b[0m return_value \u001b[38;5;241m=\u001b[39m get_return_value(\n\u001b[1;32m   1323\u001b[0m     answer, \u001b[38;5;28mself\u001b[39m\u001b[38;5;241m.\u001b[39mgateway_client, \u001b[38;5;28mself\u001b[39m\u001b[38;5;241m.\u001b[39mtarget_id, \u001b[38;5;28mself\u001b[39m\u001b[38;5;241m.\u001b[39mname)\n\u001b[1;32m   1325\u001b[0m \u001b[38;5;28;01mfor\u001b[39;00m temp_arg \u001b[38;5;129;01min\u001b[39;00m temp_args:\n",
      "File \u001b[0;32m~/Projects/big-data/venv/lib/python3.12/site-packages/py4j/java_gateway.py:1038\u001b[0m, in \u001b[0;36mGatewayClient.send_command\u001b[0;34m(self, command, retry, binary)\u001b[0m\n\u001b[1;32m   1036\u001b[0m connection \u001b[38;5;241m=\u001b[39m \u001b[38;5;28mself\u001b[39m\u001b[38;5;241m.\u001b[39m_get_connection()\n\u001b[1;32m   1037\u001b[0m \u001b[38;5;28;01mtry\u001b[39;00m:\n\u001b[0;32m-> 1038\u001b[0m     response \u001b[38;5;241m=\u001b[39m \u001b[43mconnection\u001b[49m\u001b[38;5;241;43m.\u001b[39;49m\u001b[43msend_command\u001b[49m\u001b[43m(\u001b[49m\u001b[43mcommand\u001b[49m\u001b[43m)\u001b[49m\n\u001b[1;32m   1039\u001b[0m     \u001b[38;5;28;01mif\u001b[39;00m binary:\n\u001b[1;32m   1040\u001b[0m         \u001b[38;5;28;01mreturn\u001b[39;00m response, \u001b[38;5;28mself\u001b[39m\u001b[38;5;241m.\u001b[39m_create_connection_guard(connection)\n",
      "File \u001b[0;32m~/Projects/big-data/venv/lib/python3.12/site-packages/py4j/clientserver.py:511\u001b[0m, in \u001b[0;36mClientServerConnection.send_command\u001b[0;34m(self, command)\u001b[0m\n\u001b[1;32m    509\u001b[0m \u001b[38;5;28;01mtry\u001b[39;00m:\n\u001b[1;32m    510\u001b[0m     \u001b[38;5;28;01mwhile\u001b[39;00m \u001b[38;5;28;01mTrue\u001b[39;00m:\n\u001b[0;32m--> 511\u001b[0m         answer \u001b[38;5;241m=\u001b[39m smart_decode(\u001b[38;5;28;43mself\u001b[39;49m\u001b[38;5;241;43m.\u001b[39;49m\u001b[43mstream\u001b[49m\u001b[38;5;241;43m.\u001b[39;49m\u001b[43mreadline\u001b[49m\u001b[43m(\u001b[49m\u001b[43m)\u001b[49m[:\u001b[38;5;241m-\u001b[39m\u001b[38;5;241m1\u001b[39m])\n\u001b[1;32m    512\u001b[0m         logger\u001b[38;5;241m.\u001b[39mdebug(\u001b[38;5;124m\"\u001b[39m\u001b[38;5;124mAnswer received: \u001b[39m\u001b[38;5;132;01m{0}\u001b[39;00m\u001b[38;5;124m\"\u001b[39m\u001b[38;5;241m.\u001b[39mformat(answer))\n\u001b[1;32m    513\u001b[0m         \u001b[38;5;66;03m# Happens when a the other end is dead. There might be an empty\u001b[39;00m\n\u001b[1;32m    514\u001b[0m         \u001b[38;5;66;03m# answer before the socket raises an error.\u001b[39;00m\n",
      "File \u001b[0;32m/usr/lib/python3.12/socket.py:720\u001b[0m, in \u001b[0;36mSocketIO.readinto\u001b[0;34m(self, b)\u001b[0m\n\u001b[1;32m    718\u001b[0m \u001b[38;5;28;01mwhile\u001b[39;00m \u001b[38;5;28;01mTrue\u001b[39;00m:\n\u001b[1;32m    719\u001b[0m     \u001b[38;5;28;01mtry\u001b[39;00m:\n\u001b[0;32m--> 720\u001b[0m         \u001b[38;5;28;01mreturn\u001b[39;00m \u001b[38;5;28;43mself\u001b[39;49m\u001b[38;5;241;43m.\u001b[39;49m\u001b[43m_sock\u001b[49m\u001b[38;5;241;43m.\u001b[39;49m\u001b[43mrecv_into\u001b[49m\u001b[43m(\u001b[49m\u001b[43mb\u001b[49m\u001b[43m)\u001b[49m\n\u001b[1;32m    721\u001b[0m     \u001b[38;5;28;01mexcept\u001b[39;00m timeout:\n\u001b[1;32m    722\u001b[0m         \u001b[38;5;28mself\u001b[39m\u001b[38;5;241m.\u001b[39m_timeout_occurred \u001b[38;5;241m=\u001b[39m \u001b[38;5;28;01mTrue\u001b[39;00m\n",
      "\u001b[0;31mKeyboardInterrupt\u001b[0m: "
     ]
    }
   ],
   "source": [
    "from pyspark.sql import SparkSession\n",
    "from pyspark.ml import PipelineModel\n",
    "from pyspark.sql.functions import from_json, col\n",
    "from pyspark.sql.types import StructType, StructField, StringType, DoubleType\n",
    "\n",
    "# Initialize Spark session\n",
    "spark = SparkSession.builder \\\n",
    "    .appName(\"KafkaSparkStreaming\") \\\n",
    "    .config(\"spark.jars.packages\",\"org.apache.spark:spark-sql-kafka-0-10_2.12:3.5.4\")\\\n",
    "    .getOrCreate()\n",
    "\n",
    "# Kafka configuration\n",
    "kafka_broker = \"127.0.0.1:9092\"\n",
    "kafka_topic = \"Item_Oulet_Sales_Prediction\"\n",
    "\n",
    "# Define the schema for incoming Kafka messages\n",
    "schema = StructType([\n",
    "    StructField(\"Item_Identifier\", StringType(), True),  # Corrected to StringType\n",
    "    StructField(\"Item_Weight\", DoubleType(), True),\n",
    "    StructField(\"Item_Visibility\", DoubleType(), True),\n",
    "    StructField(\"Item_MRP\", DoubleType(), True),\n",
    "    StructField(\"Outlet_Establishment_Year\", DoubleType(), True),\n",
    "    # StructField(\"Item_Outlet_Sales\", DoubleType(), True),\n",
    "    StructField(\"Item_Fat_Content\", StringType(), True),[]\n",
    "    # StructField(\"Item_Type\", StringType(), True),\n",
    "    # StructField(\"Outlet_Identifier\", StringType(), True),\n",
    "    # StructField(\"Outlet_Size\", StringType(), True),\n",
    "    # StructField(\"Outlet_Location_Type\", StringType(), True),\n",
    "    # StructField(\"Outlet_Type\", StringType(), True),\n",
    "])\n",
    "\n",
    "# Load the trained model\n",
    "model_path = \"model\"\n",
    "try:\n",
    "    model = PipelineModel.load(model_path)\n",
    "    print(\"Model loaded successfully!\")\n",
    "except Exception as e:\n",
    "    print(f\"Failed to load model: {e}\")\n",
    "\n",
    "# Read data from Kafka\n",
    "# kafka_stream = spark.readStream \\\n",
    "#     .format(\"kafka\") \\\n",
    "#     .option(\"kafka.bootstrap.servers\", kafka_broker) \\\n",
    "#     .option(\"subscribe\", kafka_topic) \\\n",
    "#     .option(\"startingOffsets\", \"latest\") \\\n",
    "#     .load()\n",
    "\n",
    "# kafka_stream = spark.readStream \\\n",
    "#     .format(\"kafka\") \\\n",
    "#     .option(\"kafka.bootstrap.servers\", kafka_broker) \\\n",
    "#     .option(\"subscribe\", kafka_topic) \\\n",
    "#     .option(\"startingOffsets\", \"latest\") \\\n",
    "#     .option(\"failOnDataLoss\", \"false\") \\\n",
    "#     .load()\n",
    "\n",
    "kafka_stream = spark.readStream \\\n",
    "    .format(\"kafka\") \\\n",
    "    .option(\"kafka.bootstrap.servers\", kafka_broker) \\\n",
    "    .option(\"subscribe\", kafka_topic) \\\n",
    "    .option(\"startingOffsets\", \"earliest\") \\\n",
    "    .load()\n",
    "\n",
    "\n",
    "\n",
    "# Deserialize and parse the Kafka messages\n",
    "parsed_stream = kafka_stream.selectExpr(\"CAST(value AS STRING) as json\") \\\n",
    "    .select(from_json(col(\"json\"), schema).alias(\"data\")) \\\n",
    "    .select(\"data.*\")  # Extract nested fields\n",
    "\n",
    "# Handle null values in the parsed stream\n",
    "parsed_stream = parsed_stream.na.drop()  # Remove rows with null values\n",
    "\n",
    "\n",
    "\n",
    "# Apply the trained model to the streaming data\n",
    "predictions = model.transform(parsed_stream)\n",
    "\n",
    "# Rename and select relevant columns\n",
    "predictions = predictions.withColumnRenamed(\"prediction\", \"Item_Outlet_Sales_Prediction\") \\\n",
    "    .select(\n",
    "        col(\"Item_Identifier\"),\n",
    "        col(\"Item_Weight\"),\n",
    "        col(\"Item_Visibility\"),\n",
    "        col(\"Item_MRP\"),\n",
    "        col(\"Outlet_Establishment_Year\"),\n",
    "        col(\"Item_Outlet_Sales_Prediction\")\n",
    "    )\n",
    "\n",
    "# Output predictions to the console in a tabular format\n",
    "query = predictions.writeStream \\\n",
    "    .outputMode(\"append\") \\\n",
    "    .format(\"console\") \\\n",
    "    .option(\"truncate\", \"false\") \\\n",
    "    .option(\"numRows\", 20) \\\n",
    "    .trigger(processingTime=\"3 seconds\") \\\n",
    "    .start()\n",
    "\n",
    "query.awaitTermination()\n"
   ]
  },
  {
   "cell_type": "code",
   "execution_count": null,
   "metadata": {},
   "outputs": [
    {
     "data": {
      "text/plain": [
       "<bound method DataFrame.describe of DataFrame[Item_Identifier: string, Item_Weight: double, Item_Visibility: double, Item_MRP: double, Outlet_Establishment_Year: double, Item_Outlet_Sales: double, Item_Fat_Content: string, Item_Type: string, Outlet_Identifier: string, Outlet_Size: string, Outlet_Location_Type: string, Outlet_Type: string]>"
      ]
     },
     "execution_count": 8,
     "metadata": {},
     "output_type": "execute_result"
    }
   ],
   "source": [
    "parsed_stream.describe"
   ]
  },
  {
   "cell_type": "code",
   "execution_count": null,
   "metadata": {},
   "outputs": [
    {
     "name": "stdout",
     "output_type": "stream",
     "text": [
      "root\n",
      " |-- Item_Identifier: string (nullable = true)\n",
      " |-- Item_Weight: double (nullable = true)\n",
      " |-- Item_Visibility: double (nullable = true)\n",
      " |-- Item_MRP: double (nullable = true)\n",
      " |-- Outlet_Establishment_Year: double (nullable = true)\n",
      " |-- Item_Outlet_Sales: double (nullable = true)\n",
      " |-- Item_Fat_Content: string (nullable = true)\n",
      " |-- Item_Type: string (nullable = true)\n",
      " |-- Outlet_Identifier: string (nullable = true)\n",
      " |-- Outlet_Size: string (nullable = true)\n",
      " |-- Outlet_Location_Type: string (nullable = true)\n",
      " |-- Outlet_Type: string (nullable = true)\n",
      "\n"
     ]
    }
   ],
   "source": [
    "parsed_stream.printSchema()\n"
   ]
  },
  {
   "cell_type": "code",
   "execution_count": 9,
   "metadata": {},
   "outputs": [
    {
     "name": "stdout",
     "output_type": "stream",
     "text": [
      "+-----------------+\n",
      "|       prediction|\n",
      "+-----------------+\n",
      "|3989.619983548526|\n",
      "+-----------------+\n",
      "\n"
     ]
    }
   ],
   "source": [
    "from pyspark.sql import Row\n",
    "\n",
    "# Tạo dữ liệu đầu vào giả lập\n",
    "test_data = spark.createDataFrame([\n",
    "    Row(Item_Weight=5.0, Item_Visibility=0.2, Item_MRP=249.0, Outlet_Establishment_Year=2005, Item_Fat_Content = 'Low Fat', Item_Type= 'Snack Foods', Outlet_Identifier = 'OUT049', Outlet_Size='Medium', Outlet_Location_Type='Tier 1', Outlet_Type='Supermarket Type1'),\n",
    "    # Row(Item_Weight=8.5, Item_Visibility=0.1, Item_MRP=150.0, Outlet_Establishment_Year=2010 , Item_Fat_Content = 'Low Fat',Item_Type= 'Snack Foods')\n",
    "])\n",
    "\n",
    "# Áp dụng mô hình\n",
    "try:\n",
    "    predictions = model.transform(test_data)\n",
    "    predictions.select(\"prediction\").show()\n",
    "except Exception as e:\n",
    "    print(f\"Error testing model: {e}\")\n"
   ]
  }
 ],
 "metadata": {
  "kernelspec": {
   "display_name": "venv",
   "language": "python",
   "name": "python3"
  },
  "language_info": {
   "codemirror_mode": {
    "name": "ipython",
    "version": 3
   },
   "file_extension": ".py",
   "mimetype": "text/x-python",
   "name": "python",
   "nbconvert_exporter": "python",
   "pygments_lexer": "ipython3",
   "version": "3.12.7"
  }
 },
 "nbformat": 4,
 "nbformat_minor": 2
}
